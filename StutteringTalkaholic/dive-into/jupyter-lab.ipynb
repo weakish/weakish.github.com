{
 "cells": [
  {
   "cell_type": "markdown",
   "metadata": {},
   "source": [
    "JupyterLab Guide\n",
    "================\n",
    "\n",
    "JupyterLab is the next generation UI of Jupyter Notebook (formly known as IPython Notebook)."
   ]
  },
  {
   "cell_type": "markdown",
   "metadata": {},
   "source": [
    "## Installation\n",
    "\n",
    "JupyterLab can be installed via `conda`, `pip`, and `pipenv`.\n",
    "\n",
    "For example, to install with `conda`:\n",
    "\n",
    "```sh\n",
    "conda install -c conda-forge jupyterlab\n",
    "```\n",
    "\n",
    "Once installed, you can start it with:\n",
    "\n",
    "```sh\n",
    "jupyter lab\n",
    "```\n",
    "\n",
    "To shutdown JupyterLab, first shutdown all kernels while `Kernel` menu,\n",
    "then type `ctrl-c`."
   ]
  },
  {
   "cell_type": "markdown",
   "metadata": {},
   "source": [
    "## Notebooks\n",
    "\n",
    "Jupyter notebooks combines:\n",
    "\n",
    "1. live runnable code cells\n",
    "2. text cells (Markdown, LaTeX equations, images, interactive visualizations)\n",
    "\n",
    "Multiple view(tabs) can be opened for the same notebook,\n",
    "with synced content.\n",
    "\n",
    "The blue collapser button on left of each cell can trigger collapsing and expanding cells.\n",
    "\n",
    "Right-click on a notebook and select \"New Console for Notebook\" can attach to the notebook kernel.\n",
    "This provides a log of all computations done in the kernel (in the order in the order in which they were done),\n",
    "and a place to interactively inspect kernel state without changing the notebook.\n",
    "\n",
    "### Raw HTML\n",
    "\n",
    "IPython kernel provides a variety of convenience classes for displaying rich output, including HTML:"
   ]
  },
  {
   "cell_type": "code",
   "execution_count": 12,
   "metadata": {},
   "outputs": [
    {
     "data": {
      "text/html": [
       "<del>Hello World</del>"
      ],
      "text/plain": [
       "<IPython.core.display.HTML object>"
      ]
     },
     "metadata": {},
     "output_type": "display_data"
    }
   ],
   "source": [
    "from IPython.display import display, HTML\n",
    "display(HTML('<del>Hello World</del>'))"
   ]
  },
  {
   "cell_type": "markdown",
   "metadata": {},
   "source": [
    "or"
   ]
  },
  {
   "cell_type": "code",
   "execution_count": 13,
   "metadata": {},
   "outputs": [
    {
     "data": {
      "text/html": [
       "<del>Hello World</del>"
      ]
     },
     "metadata": {},
     "output_type": "display_data"
    }
   ],
   "source": [
    "from IPython.display import display\n",
    "display({'text/html': '<del>Hello World</del>'}, raw=True)"
   ]
  },
  {
   "cell_type": "markdown",
   "metadata": {},
   "source": [
    "MIME types supported by default:\n",
    "\n",
    "- document: `text/markdown`, `text/html`, `text/latex`, `application/vdom.v1+json` (Virtual DOM)\n",
    "- images: `image/bmp`, `image/gif`, `image/jpeg`, `image/png`, `image/svg+xml`\n",
    "- data: `application/json`, `application/vnd.vega.v2+json`, `application/vnd.vegalite.v1+json`\n",
    "- other: CSV (as `.csv` files, no MIME type), PDF (as `.pdf` files, with `application/pdf` MIME type, view only)\n",
    "\n",
    "Other Jupyter kernels offer similar APIs."
   ]
  },
  {
   "cell_type": "markdown",
   "metadata": {},
   "source": [
    "## Keymap\n",
    "\n",
    "Keyboard shortcuts can be viewed in menu, context menu, and command palette (Commands tab of sidebar).\n",
    "\n",
    "Keyboard shortcut for command palette: `Ctrl+Shift+c`\n",
    "\n",
    "### Code Cell/Console\n",
    "\n",
    "- `Tab`: complete.\n",
    "- `Shift+Tab`: tooltip.\n",
    "- `Shift+Enter`: run code.\n",
    "\n",
    "### Image File Viewer\n",
    "\n",
    "- `+` and `-`: zoom\n",
    "- `[` and `]`: rotate\n",
    "- `H` and `V`: flip horizontally/vertically\n",
    "- `I`: invert the colors\n",
    "- `0`: reset\n",
    "\n",
    "### Mouse\n",
    "\n",
    "Besides keyboard, mouse is also useful.\n",
    "Drag and drop cells within one notebook to rearrange them;\n",
    "drag and drop cells within notebooks to copy content;\n",
    "drag and drop tabs to arrange their layout."
   ]
  },
  {
   "cell_type": "markdown",
   "metadata": {},
   "source": [
    "## Extensions\n",
    "\n",
    "JupyterLab extensions are npm packages.\n",
    "\n",
    "To install extensions, first install nodejs.\n",
    "For example, via `conda`:\n",
    "\n",
    "```sh\n",
    "conda install -c conda-forge nodejs\n",
    "```\n",
    "\n",
    "Then use `jupyter labextension` to manage extensions,\n",
    "via invoking subcommands like `list`, `install`/`uninstall`, `enable`/`unable`."
   ]
  },
  {
   "cell_type": "markdown",
   "metadata": {},
   "source": [
    "## Tools and Services\n",
    "\n",
    "### nbdime\n",
    "\n",
    "[nbdime](https://github.com/jupyter/nbdime) provides tools for diffing and merging of [Jupyter Notebooks](https://jupyter-notebook.readthedocs.io).\n",
    "\n",
    "- `nbdiff` compare notebooks in a terminal-friendly way\n",
    "- `nbmerge` three-way merge of notebooks with automatic conflict resolution\n",
    "- `nbdiff-web` shows you a rich rendered diff of notebooks\n",
    "- `nbmerge-web` gives you a web-based three-way merge tool for notebooks\n",
    "- `nbshow` present a single notebook in a terminal-friendly way\n",
    "\n",
    "### nbconvert\n",
    "\n",
    "[nbconvert](https://nbconvert.readthedocs.io) allows you to convert a Jupyter .ipynb notebook document file into another static format including HTML, LaTeX, PDF, Markdown, reStructuredText, and more.\n",
    "\n",
    "[nbviewer](https://nbviewer.jupyter.org) is a free web service based on `nbconvert` to share static html versions of notebook files.\n",
    "\n",
    "### Binder\n",
    "\n",
    "[Binder](https://mybinder.org) is a free web service to turn a GitHub repo into a collection of interactive notebooks:\n",
    "\n",
    "1. Enter a url to a GitHub repo of Jupyter notebooks.\n",
    "2. Binder builds a Docker image for the repository, based on `requirements.txt` or `environment.yml` in repository's root directory.\n",
    "3. Binder launches a JupyterHub server. It provides a reusable/shareable link to live repository."
   ]
  },
  {
   "cell_type": "markdown",
   "metadata": {},
   "source": [
    "<i>This guide itself is authored in JupyterLab.</i>"
   ]
  }
 ],
 "metadata": {
  "kernelspec": {
   "display_name": "Python 3",
   "language": "python",
   "name": "python3"
  },
  "language_info": {
   "codemirror_mode": {
    "name": "ipython",
    "version": 3
   },
   "file_extension": ".py",
   "mimetype": "text/x-python",
   "name": "python",
   "nbconvert_exporter": "python",
   "pygments_lexer": "ipython3",
   "version": "3.6.5"
  }
 },
 "nbformat": 4,
 "nbformat_minor": 2
}
